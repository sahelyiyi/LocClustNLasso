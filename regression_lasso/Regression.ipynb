{
 "cells": [
  {
   "cell_type": "markdown",
   "metadata": {},
   "source": [
    "test our regresson algorithm for 3D Road Network (North Jutland, Denmark) Data Set \n",
    "\n",
    "https://archive.ics.uci.edu/ml/datasets/3D+Road+Network+%28North+Jutland%2C+Denmark%29\n",
    "\n",
    "The data contains about 400000 rows, for this test I select 1000 row of it.\n",
    "Edges are distances between points location which are lower than 0.01.\n",
    "\n",
    "X^i is a (1, 2) vector, y^i is a scalar, and also lasso iteration number is 100."
   ]
  },
  {
   "cell_type": "code",
   "execution_count": 1,
   "metadata": {},
   "outputs": [],
   "source": [
    "from reg_3d_road import *\n"
   ]
  },
  {
   "cell_type": "code",
   "execution_count": 2,
   "metadata": {},
   "outputs": [
    {
     "name": "stdout",
     "output_type": "stream",
     "text": [
      "MSE is: 4.186623083520832e-06\n"
     ]
    }
   ],
   "source": [
    "mse = 0\n",
    "for i in range(N):\n",
    "#     print (Y[i], np.dot(X[i], new_w[i]))\n",
    "    mse += np.linalg.norm(Y[i] - np.dot(X[i], new_w[i]))\n",
    "mse /= N\n",
    "print('MSE is:', mse)"
   ]
  },
  {
   "cell_type": "markdown",
   "metadata": {},
   "source": [
    "For another test I have chosen 200000 rows of data and merged each 5 nearest nodes, and create the new graph the same as previous test.\n",
    "\n",
    "Thus X^i is a (5, 2) vector, y^i is a (5, 1) vector, and also lasso iteration number is 100."
   ]
  },
  {
   "cell_type": "code",
   "execution_count": 3,
   "metadata": {},
   "outputs": [],
   "source": [
    "from reg_merge_3d_road import *"
   ]
  },
  {
   "cell_type": "code",
   "execution_count": 4,
   "metadata": {},
   "outputs": [
    {
     "name": "stdout",
     "output_type": "stream",
     "text": [
      "MSE is: 0.34428919438244215\n"
     ]
    }
   ],
   "source": [
    "mse = 0\n",
    "for i in range(N):\n",
    "#     print (Y[i], np.dot(X[i], new_w[i]))\n",
    "    mse += np.linalg.norm(Y[i] - np.dot(X[i], new_w[i]))\n",
    "mse /= N\n",
    "print('MSE is:', mse)"
   ]
  },
  {
   "cell_type": "code",
   "execution_count": null,
   "metadata": {},
   "outputs": [],
   "source": []
  }
 ],
 "metadata": {
  "kernelspec": {
   "display_name": "Python 3",
   "language": "python",
   "name": "python3"
  },
  "language_info": {
   "codemirror_mode": {
    "name": "ipython",
    "version": 3
   },
   "file_extension": ".py",
   "mimetype": "text/x-python",
   "name": "python",
   "nbconvert_exporter": "python",
   "pygments_lexer": "ipython3",
   "version": "3.7.7"
  }
 },
 "nbformat": 4,
 "nbformat_minor": 4
}
