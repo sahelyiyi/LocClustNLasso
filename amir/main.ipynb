{
 "cells": [
  {
   "cell_type": "code",
   "execution_count": 1,
   "metadata": {},
   "outputs": [],
   "source": [
    "import itertools\n",
    "\n",
    "from algorithm import run_more_plots, accuracy\n",
    "\n",
    "from sklearn import datasets\n",
    "from sklearn.utils import shuffle\n",
    "from sklearn.metrics import normalized_mutual_info_score, adjusted_rand_score\n",
    "\n",
    "from sklearn.cluster import SpectralClustering"
   ]
  },
  {
   "cell_type": "code",
   "execution_count": 11,
   "metadata": {},
   "outputs": [],
   "source": [
    "X, y = datasets.load_iris(return_X_y=True)\n",
    "X, y = shuffle(X, y, random_state=0)\n",
    "n_clusters = len(set(y))\n",
    "\n",
    "X = X - X.mean(0)\n",
    "X = X / X.std(0)"
   ]
  },
  {
   "cell_type": "code",
   "execution_count": 12,
   "metadata": {},
   "outputs": [
    {
     "name": "stdout",
     "output_type": "stream",
     "text": [
      "direct spectral nmi: 0.689514783373153\n"
     ]
    }
   ],
   "source": [
    "sp = SpectralClustering(n_clusters=n_clusters, random_state=0)\n",
    "y_sp = sp.fit_predict(X)\n",
    "print('direct spectral nmi:', normalized_mutual_info_score(y, y_sp))"
   ]
  },
  {
   "cell_type": "code",
   "execution_count": 13,
   "metadata": {},
   "outputs": [],
   "source": [
    "alphas = [0, 0.001, 0.01, 0.1, 1, 10, 50, 100]\n",
    "lambda_lassos = [0, 0.001, 0.01, 0.1, 1, 10, 50, 100]\n",
    "\n",
    "metrics = []\n",
    "for alpha, lambda_lasso in itertools.product(alphas, lambda_lassos):\n",
    "    out = run_more_plots(X, y, 20, alpha, lambda_lasso, 0.1, n_clusters=n_clusters, plot=False, is_print=True, auto=False)\n",
    "    metrics.append(out)"
   ]
  },
  {
   "cell_type": "code",
   "execution_count": 14,
   "metadata": {},
   "outputs": [
    {
     "name": "stdout",
     "output_type": "stream",
     "text": [
      "our nmi: 0.00, our ari: 0.00, sp nmi: 0.72, sp ari: 0.56\n",
      "our nmi: 0.18, our ari: 0.02, sp nmi: 0.72, sp ari: 0.56\n",
      "our nmi: 0.01, our ari: 0.00, sp nmi: 0.72, sp ari: 0.56\n",
      "our nmi: 0.73, our ari: 0.57, sp nmi: 0.72, sp ari: 0.56\n",
      "our nmi: 0.73, our ari: 0.57, sp nmi: 0.72, sp ari: 0.56\n",
      "our nmi: 0.73, our ari: 0.57, sp nmi: 0.72, sp ari: 0.56\n",
      "our nmi: 0.73, our ari: 0.57, sp nmi: 0.72, sp ari: 0.56\n",
      "our nmi: 0.73, our ari: 0.57, sp nmi: 0.72, sp ari: 0.56\n",
      "our nmi: 0.00, our ari: 0.00, sp nmi: 0.72, sp ari: 0.56\n",
      "our nmi: 0.19, our ari: 0.03, sp nmi: 0.72, sp ari: 0.56\n",
      "our nmi: 0.18, our ari: 0.02, sp nmi: 0.72, sp ari: 0.56\n",
      "our nmi: 0.72, our ari: 0.56, sp nmi: 0.72, sp ari: 0.56\n",
      "our nmi: 0.73, our ari: 0.57, sp nmi: 0.72, sp ari: 0.56\n",
      "our nmi: 0.73, our ari: 0.57, sp nmi: 0.72, sp ari: 0.56\n",
      "our nmi: 0.73, our ari: 0.57, sp nmi: 0.72, sp ari: 0.56\n",
      "our nmi: 0.73, our ari: 0.57, sp nmi: 0.72, sp ari: 0.56\n",
      "our nmi: 0.00, our ari: 0.00, sp nmi: 0.72, sp ari: 0.56\n",
      "our nmi: 0.17, our ari: 0.02, sp nmi: 0.72, sp ari: 0.56\n",
      "our nmi: 0.18, our ari: 0.02, sp nmi: 0.72, sp ari: 0.56\n",
      "our nmi: 0.72, our ari: 0.56, sp nmi: 0.72, sp ari: 0.56\n",
      "our nmi: 0.73, our ari: 0.57, sp nmi: 0.72, sp ari: 0.56\n",
      "our nmi: 0.73, our ari: 0.57, sp nmi: 0.72, sp ari: 0.56\n",
      "our nmi: 0.73, our ari: 0.57, sp nmi: 0.72, sp ari: 0.56\n",
      "our nmi: 0.73, our ari: 0.57, sp nmi: 0.72, sp ari: 0.56\n",
      "our nmi: 0.00, our ari: 0.00, sp nmi: 0.72, sp ari: 0.56\n",
      "our nmi: 0.18, our ari: 0.02, sp nmi: 0.72, sp ari: 0.56\n",
      "our nmi: 0.14, our ari: 0.01, sp nmi: 0.72, sp ari: 0.56\n",
      "our nmi: 0.72, our ari: 0.56, sp nmi: 0.72, sp ari: 0.56\n",
      "our nmi: 0.73, our ari: 0.57, sp nmi: 0.72, sp ari: 0.56\n",
      "our nmi: 0.73, our ari: 0.57, sp nmi: 0.72, sp ari: 0.56\n",
      "our nmi: 0.73, our ari: 0.57, sp nmi: 0.72, sp ari: 0.56\n",
      "our nmi: 0.73, our ari: 0.57, sp nmi: 0.72, sp ari: 0.56\n",
      "our nmi: 0.00, our ari: 0.00, sp nmi: 0.72, sp ari: 0.56\n",
      "our nmi: 0.18, our ari: 0.02, sp nmi: 0.72, sp ari: 0.56\n",
      "our nmi: 0.15, our ari: 0.01, sp nmi: 0.72, sp ari: 0.56\n",
      "our nmi: 0.01, our ari: 0.00, sp nmi: 0.72, sp ari: 0.56\n",
      "our nmi: 0.73, our ari: 0.57, sp nmi: 0.72, sp ari: 0.56\n",
      "our nmi: 0.73, our ari: 0.57, sp nmi: 0.72, sp ari: 0.56\n",
      "our nmi: 0.73, our ari: 0.57, sp nmi: 0.72, sp ari: 0.56\n",
      "our nmi: 0.73, our ari: 0.57, sp nmi: 0.72, sp ari: 0.56\n",
      "our nmi: 0.00, our ari: 0.00, sp nmi: 0.72, sp ari: 0.56\n",
      "our nmi: 0.18, our ari: 0.02, sp nmi: 0.72, sp ari: 0.56\n",
      "our nmi: 0.19, our ari: 0.03, sp nmi: 0.72, sp ari: 0.56\n",
      "our nmi: 0.01, our ari: 0.00, sp nmi: 0.72, sp ari: 0.56\n",
      "our nmi: 0.70, our ari: 0.56, sp nmi: 0.72, sp ari: 0.56\n",
      "our nmi: 0.73, our ari: 0.57, sp nmi: 0.72, sp ari: 0.56\n",
      "our nmi: 0.73, our ari: 0.57, sp nmi: 0.72, sp ari: 0.56\n",
      "our nmi: 0.73, our ari: 0.57, sp nmi: 0.72, sp ari: 0.56\n",
      "our nmi: 0.00, our ari: 0.00, sp nmi: 0.72, sp ari: 0.56\n",
      "our nmi: 0.18, our ari: 0.02, sp nmi: 0.72, sp ari: 0.56\n",
      "our nmi: 0.18, our ari: 0.02, sp nmi: 0.72, sp ari: 0.56\n",
      "our nmi: 0.01, our ari: 0.00, sp nmi: 0.72, sp ari: 0.56\n",
      "our nmi: 0.56, our ari: 0.48, sp nmi: 0.72, sp ari: 0.56\n",
      "our nmi: 0.04, our ari: 0.00, sp nmi: 0.72, sp ari: 0.56\n",
      "our nmi: 0.04, our ari: 0.00, sp nmi: 0.72, sp ari: 0.56\n",
      "our nmi: 0.04, our ari: 0.00, sp nmi: 0.72, sp ari: 0.56\n",
      "our nmi: 0.00, our ari: 0.00, sp nmi: 0.72, sp ari: 0.56\n",
      "our nmi: 0.18, our ari: 0.02, sp nmi: 0.72, sp ari: 0.56\n",
      "our nmi: 0.18, our ari: 0.02, sp nmi: 0.72, sp ari: 0.56\n",
      "our nmi: 0.35, our ari: 0.31, sp nmi: 0.72, sp ari: 0.56\n",
      "our nmi: 0.03, our ari: 0.00, sp nmi: 0.72, sp ari: 0.56\n",
      "our nmi: 0.02, our ari: 0.00, sp nmi: 0.72, sp ari: 0.56\n",
      "our nmi: 0.01, our ari: 0.00, sp nmi: 0.72, sp ari: 0.56\n",
      "our nmi: 0.02, our ari: 0.00, sp nmi: 0.72, sp ari: 0.56\n"
     ]
    }
   ],
   "source": [
    "for met in metrics:\n",
    "    our_nmi = normalized_mutual_info_score(y, met['our_labels'])\n",
    "    our_acc = accuracy(y, met['our_labels'])\n",
    "    our_ari = adjusted_rand_score(y, met['our_labels'])\n",
    "    \n",
    "    sp_nmi = normalized_mutual_info_score(y, met['spectral_labels'])\n",
    "    sp_acc = accuracy(y, met['spectral_labels'])\n",
    "    sp_ari = adjusted_rand_score(y, met['spectral_labels'])\n",
    "    \n",
    "    print(f'our nmi: {our_nmi:.2f}, our ari: {our_ari:.2f}, sp nmi: {sp_nmi:.2f}, sp ari: {sp_ari:.2f}')"
   ]
  }
 ],
 "metadata": {
  "kernelspec": {
   "display_name": "Python 3/anaconda",
   "language": "python",
   "name": "python3"
  },
  "language_info": {
   "codemirror_mode": {
    "name": "ipython",
    "version": 3
   },
   "file_extension": ".py",
   "mimetype": "text/x-python",
   "name": "python",
   "nbconvert_exporter": "python",
   "pygments_lexer": "ipython3",
   "version": "3.8.5"
  }
 },
 "nbformat": 4,
 "nbformat_minor": 4
}
