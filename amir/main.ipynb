{
 "cells": [
  {
   "cell_type": "code",
   "execution_count": 32,
   "metadata": {},
   "outputs": [],
   "source": [
    "import itertools\n",
    "from collections import namedtuple\n",
    "\n",
    "from algorithm import run_more_plots, accuracy\n",
    "\n",
    "from sklearn import datasets\n",
    "from sklearn.utils import shuffle\n",
    "from sklearn.metrics import normalized_mutual_info_score, adjusted_rand_score\n",
    "\n",
    "import numpy as np\n",
    "import pandas as pd\n",
    "import matplotlib.pyplot as plt"
   ]
  },
  {
   "cell_type": "code",
   "execution_count": 33,
   "metadata": {},
   "outputs": [],
   "source": [
    "def get_labels(X, y, tr, num_iters=40) -> [dict]:\n",
    "    \"\"\"\n",
    "    Run our method and spectral clustering on inputs\n",
    "    \n",
    "    :param X: input data\n",
    "    :param y: labels\n",
    "    :returns: a list of dictionaries containing the predicted labels with\n",
    "              2 keys: `our_labels`, `spectral_labels`\n",
    "    \"\"\"\n",
    "    n_clusters = len(set(y))\n",
    "\n",
    "    # normalize\n",
    "    X = X - X.mean(0)\n",
    "    X = X / X.std(0)\n",
    "    \n",
    "    alphas = [0.01, 0.1, 0.5, 1, 5]\n",
    "    lambda_lassos = [0.01, 0.1, 0.5, 1, 5]\n",
    "\n",
    "    outs = []\n",
    "    for alpha, lambda_lasso in itertools.product(alphas, lambda_lassos):\n",
    "        out = run_more_plots(X, y, num_iters, alpha, lambda_lasso, tr, n_clusters=n_clusters, plot=False, is_print=True, auto=True)\n",
    "        out['alpha'] = alpha\n",
    "        out['lambda_lasso'] = lambda_lasso\n",
    "        outs.append(out)\n",
    "    \n",
    "    return outs\n",
    "\n",
    "def get_performance(out, y, is_print=False) -> dict:\n",
    "    \"\"\"Get performance of one prediction\"\"\"\n",
    "\n",
    "    our_nmi = normalized_mutual_info_score(y, out['our_labels'])\n",
    "    our_acc = accuracy(y, out['our_labels'])\n",
    "    our_ari = adjusted_rand_score(y, out['our_labels'])\n",
    "\n",
    "    sp_nmi = normalized_mutual_info_score(y, out['spectral_labels'])\n",
    "    sp_acc = accuracy(y, out['spectral_labels'])\n",
    "    sp_ari = adjusted_rand_score(y, out['spectral_labels'])\n",
    "    \n",
    "    if is_print:\n",
    "        print(f'our acc: {our_acc:.2f}, our nmi: {our_nmi:.2f}, our ari: {our_ari:.2f}, sp acc: {sp_acc:.2f}, sp nmi: {sp_nmi:.2f}, sp ari: {sp_ari:.2f}')\n",
    " \n",
    "    performance = {\n",
    "        'our_nmi': our_nmi,\n",
    "        'our_acc': our_acc,\n",
    "        'our_ari': our_ari,\n",
    "        'sp_nmi': sp_nmi,\n",
    "        'sp_acc': sp_acc,\n",
    "        'sp_ari': sp_ari\n",
    "    }\n",
    "    \n",
    "    return performance\n",
    "    \n",
    "    \n",
    "def get_performances(outs, y, best=False, is_print=False) -> [dict]:\n",
    "    \"\"\"Print clustering performance metrics\"\"\"\n",
    "    \n",
    "    performances = None\n",
    "    \n",
    "    # if best==True pick the one with hieghst nmi\n",
    "    if best:\n",
    "        best_out = list(sorted(outs,\n",
    "                               key=lambda out: normalized_mutual_info_score(y, out['our_labels']),\n",
    "                               reverse=True\n",
    "                              ))[0]\n",
    "        performances = [get_performance(best_out, y, is_print)]\n",
    "    else:\n",
    "        performances = [get_performance(out, y) for out in outs]\n",
    "    \n",
    "    return performances\n",
    "\n",
    "\n",
    "def plot_nmis(iters, our_nmis, sp_nmis) -> None:\n",
    "    plt.plot(iters, our_nmis, marker='o', label='our method')\n",
    "    plt.plot(iters, sp_nmis, marker='o', label='spectral method')\n",
    "    plt.xticks(iters[::2])\n",
    "    plt.xlabel('iteration')\n",
    "    plt.ylabel('NMI')\n",
    "    plt.legend()\n",
    "    plt.show()\n",
    "    \n",
    "def plot_accs(iters, our_accs, sp_accs) -> None:\n",
    "    plt.plot(iters, our_accs, marker='o', label='our method')\n",
    "    plt.plot(iters, sp_accs, marker='o', label='spectral method')\n",
    "    plt.xticks(iters[::2])\n",
    "    plt.xlabel('iteration')\n",
    "    plt.ylabel('Accuracy')\n",
    "    plt.legend()\n",
    "    plt.show()\n",
    "    \n",
    "def run_and_plot_iterations(X, y, tr=0.01) -> None:\n",
    "    \"\"\"Run our algorithm with different number of iterations and plot performances\"\"\"\n",
    "    \n",
    "    iters = list(range(1, 21))\n",
    "    perfs = []\n",
    "\n",
    "    for i in iters:\n",
    "        outs = get_labels(X, y, tr=tr, num_iters=i)\n",
    "        performance = get_performances(outs, y, best=True, is_print=False)[0]\n",
    "        perfs.append(performance)\n",
    "\n",
    "    our_nmis = [x['our_nmi'] for x in perfs]\n",
    "    sp_nmis = [x['sp_nmi'] for x in perfs]\n",
    "    plot_nmis(iters, our_nmis, sp_nmis)\n",
    "\n",
    "    our_accs = [x['our_acc'] for x in perfs]\n",
    "    sp_accs = [x['sp_acc'] for x in perfs]\n",
    "    plot_accs(iters, our_accs, sp_accs)"
   ]
  },
  {
   "cell_type": "markdown",
   "metadata": {},
   "source": [
    "## Iris dataset\n",
    "\n",
    "\"The data set contains 3 classes of 50 instances each, where each class refers to a type of iris plant. One class is linearly separable from the other 2\"\n",
    "\n",
    "|||\n",
    "----|----\n",
    "|# Instances | 150 |\n",
    "|# Clusters | 3 | \n",
    "|# Attributes | 4 | \n"
   ]
  },
  {
   "cell_type": "code",
   "execution_count": 34,
   "metadata": {},
   "outputs": [
    {
     "name": "stdout",
     "output_type": "stream",
     "text": [
      "our acc: 0.66, our nmi: 0.72, our ari: 0.56, sp acc: 0.67, sp nmi: 0.68, sp ari: 0.54\n",
      "\n"
     ]
    }
   ],
   "source": [
    "X, y = datasets.load_iris(return_X_y=True)\n",
    "X, y = shuffle(X, y, random_state=0)\n",
    "\n",
    "outs = get_labels(X, y, tr=0.2)\n",
    "get_performances(outs, y, best=True, is_print=True)\n",
    "print()"
   ]
  },
  {
   "cell_type": "markdown",
   "metadata": {},
   "source": [
    "## Breast cancer\n",
    "\n",
    "Features are computed from a digitized image of a fine needle aspirate (FNA) of a breast mass. They describe characteristics of the cell nuclei present in the image.\n",
    "\n",
    "|||\n",
    "----|----\n",
    "|# Instances | 569 |\n",
    "|# Clusters | 2 | \n",
    "|# Attributes | 30 | "
   ]
  },
  {
   "cell_type": "code",
   "execution_count": 36,
   "metadata": {},
   "outputs": [
    {
     "name": "stdout",
     "output_type": "stream",
     "text": [
      "our acc: 0.88, our nmi: 0.48, our ari: 0.57, sp acc: 0.82, sp nmi: 0.41, sp ari: 0.41\n",
      "\n"
     ]
    }
   ],
   "source": [
    "X, y = datasets.load_breast_cancer(return_X_y=True)\n",
    "X = TSNE().fit_transform(X)\n",
    "X, y = shuffle(X, y, random_state=0)\n",
    "\n",
    "outs = get_labels(X, y, tr=0.2)\n",
    "get_performances(outs, y, best=True, is_print=True)\n",
    "print()"
   ]
  },
  {
   "cell_type": "markdown",
   "metadata": {},
   "source": [
    "## Wine dataset\n",
    "\n",
    "\"The data is the results of a chemical analysis of wines grown in the same region in Italy by three different cultivators. There are thirteen different measurements taken for different constituents found in the three types of wine.\"\n",
    "\n",
    "|||\n",
    "----|----\n",
    "|# Instances | 178 |\n",
    "|# Clusters | 3 | \n",
    "|# Attributes | 13 | "
   ]
  },
  {
   "cell_type": "code",
   "execution_count": 38,
   "metadata": {},
   "outputs": [
    {
     "name": "stdout",
     "output_type": "stream",
     "text": [
      "our acc: 0.76, our nmi: 0.58, our ari: 0.45, sp acc: 0.40, sp nmi: 0.04, sp ari: 0.00\n",
      "\n"
     ]
    }
   ],
   "source": [
    "X, y = datasets.load_wine(return_X_y=True)\n",
    "X, y = shuffle(X, y, random_state=0)\n",
    "\n",
    "outs = get_labels(X, y, tr=0.01)\n",
    "get_performances(outs, y, best=True, is_print=True)\n",
    "print()"
   ]
  },
  {
   "cell_type": "markdown",
   "metadata": {},
   "source": [
    "## Chain link dataset\n",
    "\n",
    "An artificial dataset.\n",
    "\n",
    "|||\n",
    "----|----\n",
    "|# Instances | 1000 |\n",
    "|# Clusters | 2 | \n",
    "|# Attributes | 3 | "
   ]
  },
  {
   "cell_type": "code",
   "execution_count": 39,
   "metadata": {},
   "outputs": [
    {
     "name": "stdout",
     "output_type": "stream",
     "text": [
      "our acc: 1.00, our nmi: 0.99, our ari: 1.00, sp acc: 1.00, sp nmi: 1.00, sp ari: 1.00\n",
      "\n"
     ]
    }
   ],
   "source": [
    "data = np.genfromtxt('data/chainlink.arff.txt', delimiter=',')\n",
    "X = data[:, 0:3]\n",
    "y = np.array(data[:, 3], dtype=int)\n",
    "X, y = shuffle(X, y, random_state=0)\n",
    "y -= 1\n",
    "\n",
    "outs = get_labels(X, y, tr=0.2)\n",
    "get_performances(outs, y, best=True, is_print=True)\n",
    "print()"
   ]
  },
  {
   "cell_type": "code",
   "execution_count": 17,
   "metadata": {},
   "outputs": [
    {
     "data": {
      "text/plain": [
       "<mpl_toolkits.mplot3d.art3d.Path3DCollection at 0x2acec8143580>"
      ]
     },
     "execution_count": 17,
     "metadata": {},
     "output_type": "execute_result"
    },
    {
     "data": {
      "image/png": "[encoded data removed]",
      "text/plain": [
       "<Figure size 432x288 with 1 Axes>"
      ]
     },
     "metadata": {
      "needs_background": "light"
     },
     "output_type": "display_data"
    }
   ],
   "source": [
    "fig = plt.figure()\n",
    "ax = plt.axes(projection ='3d')\n",
    "ax.scatter3D(X[:, 0], X[:, 1], X[:, 2], c=y)"
   ]
  },
  {
   "cell_type": "markdown",
   "metadata": {},
   "source": [
    "# Conclusion\n",
    "\n",
    "1. For Iris dataset, our algorithm is more optimal than spectral clustering in terms of NMI and ARI. But the accuracies are more or less the same\n",
    "2. For Breast cancer dataset, since the data is high-dimensional (30 features per data point), I applied TSNE before doing clustering. Our algorithm outperforms spectral clustering in both accuracy and NMI. \n",
    "3. For the wine dataset our algorithm performs signigicantly better than spectral clustering.\n",
    "4. For chain link dataset, both of the algorithms perform a perfect clustering."
   ]
  }
 ],
 "metadata": {
  "kernelspec": {
   "display_name": "Python 3/anaconda",
   "language": "python",
   "name": "python3"
  },
  "language_info": {
   "codemirror_mode": {
    "name": "ipython",
    "version": 3
   },
   "file_extension": ".py",
   "mimetype": "text/x-python",
   "name": "python",
   "nbconvert_exporter": "python",
   "pygments_lexer": "ipython3",
   "version": "3.8.5"
  }
 },
 "nbformat": 4,
 "nbformat_minor": 4
}
