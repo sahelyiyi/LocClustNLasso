{
 "cells": [
  {
   "cell_type": "markdown",
   "metadata": {},
   "source": [
    "test our regresson algorithm for 3D Road Network (North Jutland, Denmark) Data Set \n",
    "\n",
    "https://archive.ics.uci.edu/ml/datasets/3D+Road+Network+%28North+Jutland%2C+Denmark%29\n",
    "\n",
    "The data contains about 400000 rows, for this test I select 1000 row of it.\n",
    "Edges are distances between points location which are higher than 0.01."
   ]
  },
  {
   "cell_type": "code",
   "execution_count": 1,
   "metadata": {},
   "outputs": [
    {
     "name": "stdout",
     "output_type": "stream",
     "text": [
      "iter: 0\n",
      "iter: 1\n",
      "iter: 2\n",
      "iter: 3\n",
      "iter: 4\n",
      "iter: 5\n",
      "iter: 6\n",
      "iter: 7\n",
      "iter: 8\n",
      "iter: 9\n",
      "iter: 10\n",
      "iter: 11\n",
      "iter: 12\n",
      "iter: 13\n",
      "iter: 14\n",
      "iter: 15\n",
      "iter: 16\n",
      "iter: 17\n",
      "iter: 18\n",
      "iter: 19\n",
      "iter: 20\n",
      "iter: 21\n",
      "iter: 22\n",
      "iter: 23\n",
      "iter: 24\n",
      "iter: 25\n",
      "iter: 26\n",
      "iter: 27\n",
      "iter: 28\n",
      "iter: 29\n",
      "iter: 30\n",
      "iter: 31\n",
      "iter: 32\n",
      "iter: 33\n",
      "iter: 34\n",
      "iter: 35\n",
      "iter: 36\n",
      "iter: 37\n",
      "iter: 38\n",
      "iter: 39\n",
      "iter: 40\n",
      "iter: 41\n",
      "iter: 42\n",
      "iter: 43\n",
      "iter: 44\n",
      "iter: 45\n",
      "iter: 46\n",
      "iter: 47\n",
      "iter: 48\n",
      "iter: 49\n",
      "iter: 50\n",
      "iter: 51\n",
      "iter: 52\n",
      "iter: 53\n",
      "iter: 54\n",
      "iter: 55\n",
      "iter: 56\n",
      "iter: 57\n",
      "iter: 58\n",
      "iter: 59\n",
      "iter: 60\n",
      "iter: 61\n",
      "iter: 62\n",
      "iter: 63\n",
      "iter: 64\n",
      "iter: 65\n",
      "iter: 66\n",
      "iter: 67\n",
      "iter: 68\n",
      "iter: 69\n",
      "iter: 70\n",
      "iter: 71\n",
      "iter: 72\n",
      "iter: 73\n",
      "iter: 74\n",
      "iter: 75\n",
      "iter: 76\n",
      "iter: 77\n",
      "iter: 78\n",
      "iter: 79\n",
      "iter: 80\n",
      "iter: 81\n",
      "iter: 82\n",
      "iter: 83\n",
      "iter: 84\n",
      "iter: 85\n",
      "iter: 86\n",
      "iter: 87\n",
      "iter: 88\n",
      "iter: 89\n",
      "iter: 90\n",
      "iter: 91\n",
      "iter: 92\n",
      "iter: 93\n",
      "iter: 94\n",
      "iter: 95\n",
      "iter: 96\n",
      "iter: 97\n",
      "iter: 98\n",
      "iter: 99\n"
     ]
    }
   ],
   "source": [
    "from reg_main import *\n"
   ]
  },
  {
   "cell_type": "code",
   "execution_count": 4,
   "metadata": {},
   "outputs": [
    {
     "name": "stdout",
     "output_type": "stream",
     "text": [
      "MSE is: 5.577515016178157e-05\n"
     ]
    }
   ],
   "source": [
    "mse = 0\n",
    "for i in range(N):\n",
    "#     print (Y[i], np.dot(X[i], new_w[i]))\n",
    "    mse += np.linalg.norm(Y[i] - np.dot(X[i], new_w[i]))\n",
    "mse /= N\n",
    "print('MSE is:', mse)"
   ]
  },
  {
   "cell_type": "code",
   "execution_count": null,
   "metadata": {},
   "outputs": [],
   "source": []
  }
 ],
 "metadata": {
  "kernelspec": {
   "display_name": "Python 3",
   "language": "python",
   "name": "python3"
  },
  "language_info": {
   "codemirror_mode": {
    "name": "ipython",
    "version": 3
   },
   "file_extension": ".py",
   "mimetype": "text/x-python",
   "name": "python",
   "nbconvert_exporter": "python",
   "pygments_lexer": "ipython3",
   "version": "3.7.7"
  }
 },
 "nbformat": 4,
 "nbformat_minor": 4
}
